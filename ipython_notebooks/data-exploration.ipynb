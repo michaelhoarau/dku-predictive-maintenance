{
  "metadata": {
    "kernelspec": {
      "name": "python3",
      "display_name": "Python 3 (ipykernel)",
      "language": "python"
    },
    "hide_input": false,
    "language_info": {
      "name": "python",
      "version": "3.9.19",
      "mimetype": "text/x-python",
      "codemirror_mode": {
        "name": "ipython",
        "version": 3
      },
      "pygments_lexer": "ipython3",
      "nbconvert_exporter": "python",
      "file_extension": ".py"
    },
    "tags": [],
    "customFields": {},
    "dkuGit": {
      "gitReference": {
        "remote": "git@github.com:michaelhoarau/dku-predictive-maintenance.git",
        "checkout": "refs/heads/feature-eda",
        "remotePath": "notebooks/data-exploration.ipynb",
        "isDirty": false
      },
      "lastInteraction": 1732632080640
    },
    "modifiedBy": "michael",
    "creator": "michael",
    "createdOn": 1732627980989
  },
  "nbformat": 4,
  "nbformat_minor": 1,
  "cells": [
    {
      "execution_count": 0,
      "cell_type": "code",
      "metadata": {},
      "source": [
        "import dataiku\nfrom dataiku import pandasutils as pdu\nimport pandas as pd"
      ],
      "outputs": []
    },
    {
      "execution_count": 0,
      "cell_type": "code",
      "metadata": {},
      "source": [
        "# Example: load a DSS dataset as a Pandas dataframe\nmydataset \u003d dataiku.Dataset(\"Asset_new_informations\")\nmydataset_df \u003d mydataset.get_dataframe()"
      ],
      "outputs": []
    },
    {
      "execution_count": 0,
      "cell_type": "code",
      "metadata": {},
      "source": [
        "mydataset_df.head()"
      ],
      "outputs": []
    }
  ]
}