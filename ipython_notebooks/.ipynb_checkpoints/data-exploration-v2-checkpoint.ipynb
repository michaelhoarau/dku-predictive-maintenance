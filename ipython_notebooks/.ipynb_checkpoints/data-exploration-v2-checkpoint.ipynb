{
  "metadata": {
    "createdOn": 1732627980989,
    "creator": "michael",
    "customFields": {},
    "dkuGit": {
      "gitReference": {
        "checkout": "main",
        "isDirty": false,
        "lastHash": "4456bbd49ee1ba11c6820d0545bef5d3de4c6146",
        "lastTimestamp": 1732630319000,
        "remote": "git@github.com:michaelhoarau/dku-predictive-maintenance.git",
        "remotePath": "notebooks/data-exploration.ipynb"
      },
      "lastInteraction": 1732630321050
    },
    "hide_input": false,
    "kernelspec": {
      "display_name": "Pandas 1.1 (Python 3.9)",
      "language": "python",
      "name": "py39-dss"
    },
    "language_info": {
      "codemirror_mode": {
        "name": "ipython",
        "version": 3
      },
      "file_extension": ".py",
      "mimetype": "text/x-python",
      "name": "python",
      "nbconvert_exporter": "python",
      "pygments_lexer": "ipython3",
      "version": "3.9.19"
    },
    "modifiedBy": "michael",
    "tags": []
  },
  "nbformat": 4,
  "nbformat_minor": 4,
  "cells": [
    {
      "execution_count": 0,
      "cell_type": "code",
      "metadata": {},
      "source": [
        "%pylab inline"
      ],
      "outputs": []
    },
    {
      "execution_count": 0,
      "cell_type": "code",
      "metadata": {},
      "source": [
        "import dataiku\n",
        "from dataiku import pandasutils as pdu\n",
        "import pandas as pd"
      ],
      "outputs": []
    },
    {
      "execution_count": 0,
      "cell_type": "code",
      "metadata": {},
      "source": [
        "# Example: load a DSS dataset as a Pandas dataframe\n",
        "mydataset \u003d dataiku.Dataset(\"mydataset\")\n",
        "mydataset_df \u003d mydataset.get_dataframe()"
      ],
      "outputs": []
    },
    {
      "execution_count": 0,
      "cell_type": "code",
      "metadata": {},
      "source": [
        "from IPython.display import IFrame"
      ],
      "outputs": []
    },
    {
      "execution_count": 0,
      "cell_type": "code",
      "metadata": {},
      "source": [
        "IFrame(src\u003d\"http://127.0.0.1:34073/diff?base\u003ddata-exploration.ipynb\u0026remote\u003ddata-exploration-v2.ipynb\", width\u003d\u0027100%\u0027, height\u003d\u0027500px\u0027)"
      ],
      "outputs": []
    }
  ]
}