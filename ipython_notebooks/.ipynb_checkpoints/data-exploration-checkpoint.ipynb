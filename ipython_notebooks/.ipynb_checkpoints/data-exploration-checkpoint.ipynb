{
  "metadata": {
    "kernelspec": {
      "name": "python3",
      "display_name": "Python 3 (ipykernel)",
      "language": "python"
    },
    "hide_input": false,
    "language_info": {
      "name": "python",
      "version": "3.9.19",
      "mimetype": "text/x-python",
      "codemirror_mode": {
        "name": "ipython",
        "version": 3
      },
      "pygments_lexer": "ipython3",
      "nbconvert_exporter": "python",
      "file_extension": ".py"
    },
    "tags": [],
    "customFields": {},
    "dkuGit": {
      "gitReference": {
        "remote": "git@github.com:michaelhoarau/dku-predictive-maintenance.git",
        "checkout": "main",
        "remotePath": "notebooks/data-exploration.ipynb",
        "lastHash": "4456bbd49ee1ba11c6820d0545bef5d3de4c6146",
        "lastTimestamp": 1732630319000,
        "isDirty": false
      },
      "lastInteraction": 1732711523514
    },
    "modifiedBy": "michael",
    "creator": "michael",
    "createdOn": 1732627980989
  },
  "nbformat": 4,
  "nbformat_minor": 4,
  "cells": [
    {
      "execution_count": 0,
      "cell_type": "code",
      "metadata": {},
      "source": [
        "%pylab inline"
      ],
      "outputs": []
    },
    {
      "execution_count": 0,
      "cell_type": "code",
      "metadata": {},
      "source": [
        "import dataiku\n",
        "from dataiku import pandasutils as pdu\n",
        "import pandas as pd"
      ],
      "outputs": []
    },
    {
      "execution_count": 0,
      "cell_type": "code",
      "metadata": {},
      "source": [
        "# Example: load a DSS dataset as a Pandas dataframe\n",
        "mydataset \u003d dataiku.Dataset(\"Asset_new_informations\")\n",
        "mydataset_df \u003d mydataset.get_dataframe()"
      ],
      "outputs": []
    },
    {
      "execution_count": 0,
      "cell_type": "code",
      "metadata": {},
      "source": [
        "mydataset_df.head()"
      ],
      "outputs": []
    },
    {
      "execution_count": 0,
      "cell_type": "code",
      "metadata": {},
      "source": [
        "mydataset_df.tail()"
      ],
      "outputs": []
    }
  ]
}